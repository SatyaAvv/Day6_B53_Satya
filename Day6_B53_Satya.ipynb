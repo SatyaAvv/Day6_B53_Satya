{
 "cells": [
  {
   "cell_type": "code",
   "execution_count": 1,
   "id": "5d9238a7",
   "metadata": {},
   "outputs": [],
   "source": [
    "students = ('darnesh','satya','suresh','mukesh','venky')"
   ]
  },
  {
   "cell_type": "code",
   "execution_count": 2,
   "id": "c869090f",
   "metadata": {},
   "outputs": [
    {
     "name": "stdout",
     "output_type": "stream",
     "text": [
      "('darnesh', 'satya', 'suresh', 'mukesh', 'venky')\n"
     ]
    }
   ],
   "source": [
    "print(students)"
   ]
  },
  {
   "cell_type": "code",
   "execution_count": null,
   "id": "2a6670cb",
   "metadata": {},
   "outputs": [],
   "source": []
  },
  {
   "cell_type": "code",
   "execution_count": 5,
   "id": "ca573bcf",
   "metadata": {},
   "outputs": [
    {
     "name": "stdout",
     "output_type": "stream",
     "text": [
      "keep up the good work, darnesh\n"
     ]
    }
   ],
   "source": [
    "print(f\"keep up the good work, {students[0]}\")"
   ]
  },
  {
   "cell_type": "code",
   "execution_count": 8,
   "id": "43d8c870",
   "metadata": {},
   "outputs": [
    {
     "name": "stdout",
     "output_type": "stream",
     "text": [
      "keep up the good work, Darnesh\n"
     ]
    }
   ],
   "source": [
    "print(f\"keep up the good work, {students[0].title()}\")"
   ]
  },
  {
   "cell_type": "code",
   "execution_count": 9,
   "id": "003f1792",
   "metadata": {},
   "outputs": [
    {
     "name": "stdout",
     "output_type": "stream",
     "text": [
      "keep up the good work, Suresh\n"
     ]
    }
   ],
   "source": [
    "print(f\"keep up the good work, {students[2].title()}\")"
   ]
  },
  {
   "cell_type": "code",
   "execution_count": 11,
   "id": "ad5c3d88",
   "metadata": {},
   "outputs": [
    {
     "name": "stdout",
     "output_type": "stream",
     "text": [
      "keep up the good work, Mukesh\n"
     ]
    }
   ],
   "source": [
    "print(f\"keep up the good work, {students[3].title()}\")"
   ]
  },
  {
   "cell_type": "code",
   "execution_count": null,
   "id": "5c724316",
   "metadata": {},
   "outputs": [],
   "source": []
  },
  {
   "cell_type": "code",
   "execution_count": 14,
   "id": "b45b4ead",
   "metadata": {},
   "outputs": [
    {
     "name": "stdout",
     "output_type": "stream",
     "text": [
      "keep up good work, darnesh\n",
      "keep up good work, satya\n",
      "keep up good work, suresh\n",
      "keep up good work, mukesh\n",
      "keep up good work, venky\n"
     ]
    }
   ],
   "source": [
    "for y in students:\n",
    "    print(f\"keep up good work, {y}\")"
   ]
  },
  {
   "cell_type": "code",
   "execution_count": 18,
   "id": "66d18646",
   "metadata": {},
   "outputs": [
    {
     "name": "stdout",
     "output_type": "stream",
     "text": [
      "keep up good work, Darnesh\n",
      "keep up good work, Satya\n",
      "keep up good work, Suresh\n",
      "keep up good work, Mukesh\n",
      "keep up good work, Venky\n"
     ]
    }
   ],
   "source": [
    "for y in students:\n",
    "    print(f\"keep up good work, {y.title()}\")"
   ]
  },
  {
   "cell_type": "code",
   "execution_count": 20,
   "id": "d69da8de",
   "metadata": {},
   "outputs": [
    {
     "name": "stdout",
     "output_type": "stream",
     "text": [
      "Welcome to Bigbazar for Diwali festival offer, Darnesh\n",
      "Welcome to Bigbazar for Diwali festival offer, Satya\n",
      "Welcome to Bigbazar for Diwali festival offer, Suresh\n",
      "Welcome to Bigbazar for Diwali festival offer, Mukesh\n",
      "Welcome to Bigbazar for Diwali festival offer, Venky\n"
     ]
    }
   ],
   "source": [
    "for b in students:\n",
    "    print(f\"Welcome to Bigbazar for Diwali festival offer, {b.title()}\")"
   ]
  },
  {
   "cell_type": "code",
   "execution_count": 21,
   "id": "ab4b7234",
   "metadata": {},
   "outputs": [
    {
     "ename": "IndentationError",
     "evalue": "expected an indented block (<ipython-input-21-425673bdc1ee>, line 2)",
     "output_type": "error",
     "traceback": [
      "\u001b[1;36m  File \u001b[1;32m\"<ipython-input-21-425673bdc1ee>\"\u001b[1;36m, line \u001b[1;32m2\u001b[0m\n\u001b[1;33m    print(f\"Welcome to Bigbazar for Diwali festival offer, {b.title()}\")\u001b[0m\n\u001b[1;37m    ^\u001b[0m\n\u001b[1;31mIndentationError\u001b[0m\u001b[1;31m:\u001b[0m expected an indented block\n"
     ]
    }
   ],
   "source": [
    "for b in students:\n",
    "print(f\"Welcome to Bigbazar for Diwali festival offer, {b.title()}\")"
   ]
  },
  {
   "cell_type": "code",
   "execution_count": 25,
   "id": "2b95e2d9",
   "metadata": {},
   "outputs": [
    {
     "name": "stdout",
     "output_type": "stream",
     "text": [
      "keep up good work, Darnesh\n",
      "Hope doing well, Darnesh\n",
      "keep up good work, Satya\n",
      "Hope doing well, Satya\n",
      "keep up good work, Suresh\n",
      "Hope doing well, Suresh\n",
      "keep up good work, Mukesh\n",
      "Hope doing well, Mukesh\n",
      "keep up good work, Venky\n",
      "Hope doing well, Venky\n"
     ]
    }
   ],
   "source": [
    "for n in students:\n",
    "    print(f\"keep up good work, {n.title()}\")\n",
    "    print(f\"Hope doing well, {n.title()}\")"
   ]
  },
  {
   "cell_type": "code",
   "execution_count": 27,
   "id": "36eb90db",
   "metadata": {},
   "outputs": [
    {
     "name": "stdout",
     "output_type": "stream",
     "text": [
      "keep up good work, Darnesh\n",
      "Hope doing well, Darnesh\n",
      "\n",
      "keep up good work, Satya\n",
      "Hope doing well, Satya\n",
      "\n",
      "keep up good work, Suresh\n",
      "Hope doing well, Suresh\n",
      "\n",
      "keep up good work, Mukesh\n",
      "Hope doing well, Mukesh\n",
      "\n",
      "keep up good work, Venky\n",
      "Hope doing well, Venky\n",
      "\n"
     ]
    }
   ],
   "source": [
    "for n in students:\n",
    "    print(f\"keep up good work, {n.title()}\")\n",
    "    print(f\"Hope doing well, {n.title()}\\n\")"
   ]
  },
  {
   "cell_type": "code",
   "execution_count": 29,
   "id": "736336c2",
   "metadata": {},
   "outputs": [
    {
     "name": "stdout",
     "output_type": "stream",
     "text": [
      "keep up good work, Darnesh\n",
      "Hope doing well. \n",
      "\n",
      "keep up good work, Satya\n",
      "Hope doing well. \n",
      "\n",
      "keep up good work, Suresh\n",
      "Hope doing well. \n",
      "\n",
      "keep up good work, Mukesh\n",
      "Hope doing well. \n",
      "\n",
      "keep up good work, Venky\n",
      "Hope doing well. \n",
      "\n"
     ]
    }
   ],
   "source": [
    "for n in students:\n",
    "    print(f\"keep up good work, {n.title()}\")\n",
    "    print(f\"Hope doing well. \\n\")"
   ]
  },
  {
   "cell_type": "code",
   "execution_count": 32,
   "id": "0f6db209",
   "metadata": {},
   "outputs": [
    {
     "name": "stdout",
     "output_type": "stream",
     "text": [
      "keep up good work, Darnesh\n",
      "Hope doing well. \n",
      "\n",
      "keep up good work, Satya\n",
      "Hope doing well. \n",
      "\n",
      "keep up good work, Suresh\n",
      "Hope doing well. \n",
      "\n",
      "keep up good work, Mukesh\n",
      "Hope doing well. \n",
      "\n",
      "keep up good work, Venky\n",
      "Hope doing well. \n",
      "\n",
      "All the best for your future.Thank you all\n"
     ]
    }
   ],
   "source": [
    "for n in students:\n",
    "    print(f\"keep up good work, {n.title()}\")\n",
    "    print(f\"Hope doing well. \\n\")\n",
    "print(\"All the best for your future.Thank you all\")"
   ]
  },
  {
   "cell_type": "code",
   "execution_count": null,
   "id": "1bda7bb9",
   "metadata": {},
   "outputs": [],
   "source": []
  },
  {
   "cell_type": "code",
   "execution_count": null,
   "id": "5ac986e2",
   "metadata": {},
   "outputs": [],
   "source": []
  },
  {
   "cell_type": "code",
   "execution_count": null,
   "id": "4836254c",
   "metadata": {},
   "outputs": [],
   "source": []
  },
  {
   "cell_type": "code",
   "execution_count": null,
   "id": "a052d201",
   "metadata": {},
   "outputs": [],
   "source": []
  },
  {
   "cell_type": "code",
   "execution_count": null,
   "id": "81258131",
   "metadata": {},
   "outputs": [],
   "source": []
  },
  {
   "cell_type": "code",
   "execution_count": null,
   "id": "d02dd414",
   "metadata": {},
   "outputs": [],
   "source": []
  },
  {
   "cell_type": "code",
   "execution_count": null,
   "id": "084453a8",
   "metadata": {},
   "outputs": [],
   "source": []
  }
 ],
 "metadata": {
  "kernelspec": {
   "display_name": "Python 3",
   "language": "python",
   "name": "python3"
  },
  "language_info": {
   "codemirror_mode": {
    "name": "ipython",
    "version": 3
   },
   "file_extension": ".py",
   "mimetype": "text/x-python",
   "name": "python",
   "nbconvert_exporter": "python",
   "pygments_lexer": "ipython3",
   "version": "3.8.8"
  }
 },
 "nbformat": 4,
 "nbformat_minor": 5
}
